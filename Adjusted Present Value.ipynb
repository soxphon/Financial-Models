# Import necessary libraries
import pandas as pd
import matplotlib.pyplot as plt

# Define the time series of cash flows (replace with your own data)
cash_flows = [100, 150, 200, 250, 300, 350, 400, 450]

# Define the discount rate
discount_rate = 0.1  # Adjust this rate as needed

# Define the window size (number of periods)
window_size = 3  # Adjust this as needed

# Initialize an empty DataFrame to store results
apv_data = pd.DataFrame(columns=['Time', 'Cash Flow', 'Discounted CF', 'PV of Tax Shield', 'APV'])

# Calculate the Adjusted Present Value (APV)
for t in range(len(cash_flows)):
    if t < window_size:
        windowed_cash_flows = cash_flows[:t + 1]
    else:
        windowed_cash_flows = cash_flows[t - window_size + 1:t + 1]
    
    cash_flow = cash_flows[t]
    discounted_cash_flow = cash_flow / (1 + discount_rate) ** (t + 1)
    
    tax_shield = sum([cf * discount_rate for cf in windowed_cash_flows if cf < 0])
    
    apv = discounted_cash_flow + tax_shield
    
    apv_data = pd.concat([apv_data, pd.DataFrame({'Time': [t + 1], 'Cash Flow': [cash_flow],
                               'Discounted CF': [discounted_cash_flow],
                               'PV of Tax Shield': [tax_shield], 'APV': [apv]})], ignore_index=True)

# Display the APV data
#apv_data

apv_data.plot(x='Time', y='APV', kind='line')
plt.xlabel('Time')
plt.ylabel('APV')
plt.title('Adjusted Present Value (APV) over Time')
plt.show()
